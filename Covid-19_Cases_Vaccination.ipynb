{
 "cells": [
  {
   "cell_type": "markdown",
   "id": "f41386b3",
   "metadata": {},
   "source": [
    "# Overview\n",
    "\n",
    "* We will analyze two datasets related to Covid-19, Covid-19 World Vaccination Progress by country and Covid -19 death/cases data by country to try.\n",
    "* We will perfrom hypothesis test to infere if increased Covid-19 vaccination will result in lower Covid-19 case counts."
   ]
  },
  {
   "cell_type": "code",
   "execution_count": null,
   "id": "33db4e5c",
   "metadata": {},
   "outputs": [],
   "source": [
    "import pandas as pd\n",
    "import matplotlib.pyplot as plt\n",
    "from scipy import stats"
   ]
  },
  {
   "cell_type": "code",
   "execution_count": null,
   "id": "35bc52ce",
   "metadata": {},
   "outputs": [],
   "source": [
    "# Creating df from both the csv files\n",
    "covid_cases_df = pd.read_csv('Resource/covid-data.csv')\n",
    "covid_vacc_df = pd.read_csv('Resource/country_vaccinations.csv')\n",
    "\n",
    "\n",
    "# updating the df to have columns needed for analysis\n",
    "covid_vacc_df = covid_vacc_df[['country', 'date', 'iso_code', 'people_vaccinated', \\\n",
    "                               'daily_vaccinations', 'people_vaccinated_per_hundred']]\n",
    "\n",
    "covid_vacc_df['date'] = pd.to_datetime(covid_vacc_df['date'])\n",
    "\n",
    "covid_cases_df = covid_cases_df[['location', 'date', 'iso_code', 'total_cases', 'new_cases', \\\n",
    "                                'total_deaths', 'new_deaths', 'population', 'total_cases_per_million', \\\n",
    "                                 'new_cases_per_million']]\n",
    "\n",
    "covid_cases_df['date'] = pd.to_datetime(covid_cases_df['date'])\n"
   ]
  },
  {
   "cell_type": "code",
   "execution_count": null,
   "id": "30ae4269",
   "metadata": {},
   "outputs": [],
   "source": [
    "# Adding total cases per hundred column\n",
    "covid_cases_df['total_cases_per_hundred'] = covid_cases_df['total_cases'] / covid_cases_df['population']\n",
    "\n",
    "# Dropping the row that contatins world data or continental data\n",
    "covid_cases_df = covid_cases_df[~covid_cases_df['iso_code'].str.contains('OWID')]\n",
    "\n",
    "covid_cases_df = covid_cases_df.reset_index(drop=True)"
   ]
  },
  {
   "cell_type": "code",
   "execution_count": null,
   "id": "0e07311b",
   "metadata": {},
   "outputs": [],
   "source": [
    "# Dropping the row that contatins world data or continental data\n",
    "covid_vacc_df = covid_vacc_df[~covid_vacc_df['iso_code'].str.contains('OWID')]"
   ]
  },
  {
   "cell_type": "code",
   "execution_count": null,
   "id": "17b5f9ae",
   "metadata": {},
   "outputs": [],
   "source": [
    "# Grouped max vaccination DF on country\n",
    "max_covid_vacc_df = covid_vacc_df.groupby(['iso_code'], as_index=False).max().\\\n",
    "                        sort_values(by=['people_vaccinated_per_hundred'], ascending=False).reset_index(drop=True)\n",
    "max_covid_vacc_df"
   ]
  },
  {
   "cell_type": "code",
   "execution_count": null,
   "id": "de2d6a4c",
   "metadata": {},
   "outputs": [],
   "source": [
    "covid_cases_df"
   ]
  },
  {
   "cell_type": "code",
   "execution_count": null,
   "id": "26e97b4c",
   "metadata": {},
   "outputs": [],
   "source": [
    "covid_vacc_df"
   ]
  },
  {
   "cell_type": "code",
   "execution_count": null,
   "id": "1b1e0953",
   "metadata": {},
   "outputs": [],
   "source": [
    "# Grouped max covid cases DF on country\n",
    "# Sorting the DF based on total cases per hundred\n",
    "# Dropping the rows with NAN values for total cases and resetting the index\n",
    "\n",
    "max_covid_case_df = covid_cases_df.groupby(['iso_code'], as_index=False).max()\n",
    "\n",
    "sort_covid_case_per_hund_df = max_covid_case_df.drop(['new_cases', 'new_deaths', 'new_cases_per_million'], \\\n",
    "                           axis=1).sort_values(by=['total_cases_per_hundred'], ascending=False).dropna(subset=['total_cases']).reset_index(drop=True)\n",
    "\n",
    "\n",
    "# Sorting the DF based on total cases\n",
    "sort_most_covid_case_df = max_covid_case_df.drop(['new_cases', 'new_deaths', 'new_cases_per_million'], \\\n",
    "                           axis=1).sort_values(by=['total_cases'], ascending=False).dropna(subset=['total_cases']).reset_index(drop=True)"
   ]
  },
  {
   "cell_type": "code",
   "execution_count": null,
   "id": "4e70c748",
   "metadata": {},
   "outputs": [],
   "source": [
    "# This df shows the most effected countries based on cases per hundred. \n",
    "sort_covid_case_per_hund_df"
   ]
  },
  {
   "cell_type": "code",
   "execution_count": null,
   "id": "de9b5831",
   "metadata": {},
   "outputs": [],
   "source": [
    "# This df shows the most effected countries based on most number of total cases. \n",
    "sort_most_covid_case_df"
   ]
  },
  {
   "cell_type": "code",
   "execution_count": null,
   "id": "1f6b3bca",
   "metadata": {},
   "outputs": [],
   "source": [
    "#mergin two dfs on 'iso-code' and 'date'\n",
    "\n",
    "merge_df = pd.merge(covid_cases_df, covid_vacc_df, on=['iso_code', 'date'], how='outer')"
   ]
  },
  {
   "cell_type": "code",
   "execution_count": null,
   "id": "689b27da",
   "metadata": {},
   "outputs": [],
   "source": [
    "#verfying the merge df\n",
    "\n",
    "merge_df.loc[(merge_df['iso_code'] == 'AFG') & (merge_df['date'] == '2022-03-06')]"
   ]
  },
  {
   "cell_type": "code",
   "execution_count": null,
   "id": "45ad9d15",
   "metadata": {},
   "outputs": [],
   "source": [
    "# Dataframes available to use\n",
    "\n",
    "#1. covid_vacc_df  ---- raw df with required columns for vaccination record\n",
    "#2. covid_cases_df ---- raw df with required columns for cases record with added column for \"total cases per hundred\"\n",
    "                        # plus data for world and continents are removed from it\n",
    "    \n",
    "#3. max_covid_vacc_df ---- data is grouped on country and is sorted with the countries with most people vaccinated\n",
    "#4. sort_covid_case_per_hund_df ---- data is grouped on country and is sorted with the countries with most cases per hundred\n",
    "#5. sort_most_covid_case_df ---- data is grouped on country and is sorted with the countries with most cases\n",
    "#6. merge_df ---- its a merged df 'on=['iso_code', 'date']' containg vaccination and cases record. \n",
    "\n",
    "\n"
   ]
  },
  {
   "cell_type": "markdown",
   "id": "1fa29010",
   "metadata": {},
   "source": [
    "# sample plot"
   ]
  },
  {
   "cell_type": "code",
   "execution_count": null,
   "id": "898dd795",
   "metadata": {},
   "outputs": [],
   "source": [
    "isreal_df = merge_df.loc[merge_df['iso_code'] == 'ISR']"
   ]
  },
  {
   "cell_type": "code",
   "execution_count": null,
   "id": "958e61a8",
   "metadata": {},
   "outputs": [],
   "source": [
    "\n",
    "\n",
    "plt.bar(isreal_df['date'], isreal_df['daily_vaccinations'], color='b', alpha=0.5)\n",
    "plt.bar(isreal_df['date'], isreal_df['new_cases'], color='r', alpha=0.5)\n",
    "plt.xlim(isreal_df['date'].min(), isreal_df['date'].max())\n",
    "plt.xticks(rotation=90, fontweight='light',  fontsize='small')\n",
    "plt.show()"
   ]
  },
  {
   "cell_type": "code",
   "execution_count": null,
   "id": "ac3f0b18",
   "metadata": {},
   "outputs": [],
   "source": [
    "isreal_df"
   ]
  },
  {
   "cell_type": "code",
   "execution_count": null,
   "id": "cb16c00e",
   "metadata": {},
   "outputs": [],
   "source": [
    "isreal_df.loc[isreal_df['new_cases'] == isreal_df['new_cases'].max()]"
   ]
  },
  {
   "cell_type": "code",
   "execution_count": null,
   "id": "5671bcad",
   "metadata": {},
   "outputs": [],
   "source": []
  }
 ],
 "metadata": {
  "kernelspec": {
   "display_name": "Python 3 (ipykernel)",
   "language": "python",
   "name": "python3"
  },
  "language_info": {
   "codemirror_mode": {
    "name": "ipython",
    "version": 3
   },
   "file_extension": ".py",
   "mimetype": "text/x-python",
   "name": "python",
   "nbconvert_exporter": "python",
   "pygments_lexer": "ipython3",
   "version": "3.8.13"
  }
 },
 "nbformat": 4,
 "nbformat_minor": 5
}

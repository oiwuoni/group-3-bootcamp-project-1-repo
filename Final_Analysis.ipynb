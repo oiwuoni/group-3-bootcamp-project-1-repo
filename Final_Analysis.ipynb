{
 "cells": [
  {
   "cell_type": "markdown",
   "id": "02dfa04e",
   "metadata": {},
   "source": [
    "# Overview\n",
    "We will analyze two datasets related to Covid-19, Covid-19 World Vaccination Progress by country and Covid -19 death/cases data by country to try.\n",
    "We will perfrom hypothesis test to infere if increased Covid-19 vaccination will result in lower Covid-19 case counts."
   ]
  },
  {
   "cell_type": "code",
   "execution_count": null,
   "id": "93a52d3e",
   "metadata": {},
   "outputs": [],
   "source": [
    "#Importing Data Exploration and Clean Up File\n",
    "%run Data_Exploration_and_Clean_Up.ipynb"
   ]
  },
  {
   "cell_type": "markdown",
   "id": "86c90920",
   "metadata": {},
   "source": [
    "# Relationship Between Total Covid-19 Vaccinations vs Covid-19 cases for the entire dataset"
   ]
  },
  {
   "cell_type": "code",
   "execution_count": null,
   "id": "b0f3dbd7",
   "metadata": {},
   "outputs": [],
   "source": [
    "# stackplots layer the y-axis values. Good for data with multiple y features. In This case, we have 233. Increasing opacity\n",
    "# (alpha) can help visualize how this layering occurs. Scaled 1e7, or in units per ten million."
   ]
  },
  {
   "cell_type": "code",
   "execution_count": null,
   "id": "df963c76",
   "metadata": {},
   "outputs": [],
   "source": [
    "plt.stackplot(merge_df['date'],\n",
    "              merge_df['daily_vaccinations'], \n",
    "              color='b', alpha=0.2)\n",
    "\n",
    "plt.stackplot(merge_df['date'], \n",
    "              merge_df['new_cases'], \n",
    "              color='r', alpha=0.5)\n",
    "\n",
    "plt.xlim(merge_df['date'].min(), merge_df['date'].max())\n",
    "plt.xticks(rotation=45, fontweight='light',  fontsize='small')\n",
    "plt.xlabel('Jan 1,2020 - Mar 29,2022')\n",
    "plt.ylabel('Daily Vaccinations vs New Reported Cases')\n",
    "plt.title('Worldwide Reported Covid Cases plotted Alongside New Cases ', pad=20)\n",
    "plt.legend(['Daily Vaccinations','New Cases'], loc='upper left')\n",
    "plt.show()"
   ]
  },
  {
   "cell_type": "code",
   "execution_count": null,
   "id": "f7083e12",
   "metadata": {},
   "outputs": [],
   "source": [
    "# I set the alpha to .2 to better visualize the peaks and slopes that were being obscured potentially by \n",
    "# countries who reportedcases poorly, resulting in vertical lines between datapoints. \n",
    "# Important distinction is that this is 1e6 so in millions, while the previous plot is in 1e7 or ten million."
   ]
  },
  {
   "cell_type": "code",
   "execution_count": null,
   "id": "4ad4338e",
   "metadata": {},
   "outputs": [],
   "source": [
    "plt.stackplot(merge_df['date'], merge_df['new_cases'], color='r',alpha=0.2)\n",
    "plt.xlim(merge_df['date'].min(), merge_df['date'].max())\n",
    "plt.xticks(rotation=45, fontweight='light',  fontsize='small')\n",
    "plt.xlabel('Jan 1,2020 - Mar 29,2022')\n",
    "plt.ylabel('New Reported Cases')\n",
    "plt.title('Worldwide Reported Covid Cases', pad=20)\n",
    "plt.legend(['Daily Vaccinations','New Cases'], loc='upper left')\n",
    "plt.show()"
   ]
  },
  {
   "cell_type": "markdown",
   "id": "d1c0361b",
   "metadata": {},
   "source": [
    "Overwhelmingly, on a global scale, the population of those vaccinated far exceeded the population of recorded cases. Overall, the population of the world far exceeds the population of those vaccinated. Notably, this is all just based on trusting the reported data from each country. Evidence for poor house keeping might even be possible to see from these plots."
   ]
  },
  {
   "cell_type": "markdown",
   "id": "92485895",
   "metadata": {},
   "source": [
    "# Daily Vaccinations vs New Cases Over Time for Country"
   ]
  },
  {
   "cell_type": "code",
   "execution_count": null,
   "id": "cbe01580",
   "metadata": {},
   "outputs": [],
   "source": [
    "#Sorting Large Countries dataframe to find top 3 and bottom 3 countries for 'people_vaccinated_per_hundred'\n",
    "#from this dataframe by population for analysis\n",
    "sorted_large_df = large_countries_df.groupby(['country'], as_index=False).max()\\\n",
    ".sort_values(by=['people_vaccinated_per_hundred'], ascending=False)"
   ]
  },
  {
   "cell_type": "code",
   "execution_count": null,
   "id": "ea96e300",
   "metadata": {},
   "outputs": [],
   "source": [
    "#Finding top 3 countries for analysis\n",
    "sorted_large_df.head(3)"
   ]
  },
  {
   "cell_type": "code",
   "execution_count": null,
   "id": "7f5743ec",
   "metadata": {},
   "outputs": [],
   "source": [
    "#Finding bottom 3 countries for analysis\n",
    "sorted_large_df.tail(3)"
   ]
  },
  {
   "cell_type": "code",
   "execution_count": null,
   "id": "3242f846",
   "metadata": {},
   "outputs": [],
   "source": [
    "#Create country dataframes\n",
    "country1_df = large_countries_df.loc[large_countries_df['iso_code'] == 'CHN']\n",
    "country2_df = large_countries_df.loc[large_countries_df['iso_code'] == 'KOR']\n",
    "country3_df = large_countries_df.loc[large_countries_df['iso_code'] == 'ITA']\n",
    "country4_df = large_countries_df.loc[large_countries_df['iso_code'] == 'NGA']\n",
    "country5_df = large_countries_df.loc[large_countries_df['iso_code'] == 'TZA']\n",
    "country6_df = large_countries_df.loc[large_countries_df['iso_code'] == 'COD']\n",
    "usa_df = large_countries_df.loc[large_countries_df['iso_code'] == 'USA']\n",
    "BRA_df = large_countries_df.loc[large_countries_df['iso_code'] == 'BRA']"
   ]
  },
  {
   "cell_type": "markdown",
   "id": "9f7cac82",
   "metadata": {},
   "source": [
    "# Top 3 Countries by 'people_vaccinated_per_hundred'"
   ]
  },
  {
   "cell_type": "code",
   "execution_count": null,
   "id": "94518196",
   "metadata": {},
   "outputs": [],
   "source": [
    "#Create Bar Chart for China\n",
    "print(f\"People Vaccinated Per Hundred: {country1_df['people_vaccinated_per_hundred'].max()}\")\n",
    "plt.bar(country1_df['date'], country1_df['daily_vaccinations'], color='b', alpha=0.5)\n",
    "plt.bar(country1_df['date'], country1_df['new_cases'], color='r', alpha=0.5)\n",
    "plt.xlim(country1_df['date'].min(), country1_df['date'].max())\n",
    "plt.xticks(rotation=90, fontweight='light',  fontsize='small')\n",
    "plt.title(\"Daily Vaccinations vs New Cases: China\")\n",
    "plt.xlabel('Date')\n",
    "plt.ylabel ('Daily Vaccinations and New Cases')\n",
    "plt.show()"
   ]
  },
  {
   "cell_type": "code",
   "execution_count": null,
   "id": "b421d3ac",
   "metadata": {},
   "outputs": [],
   "source": [
    "#Create Bar Chart for South Korea\n",
    "print(f\"People Vaccinated Per Hundred: {country2_df['people_vaccinated_per_hundred'].max()}\")\n",
    "plt.bar(country2_df['date'], country2_df['daily_vaccinations'], color='b', alpha=0.5)\n",
    "plt.bar(country2_df['date'], country2_df['new_cases'], color='r', alpha=0.5)\n",
    "plt.xlim(country2_df['date'].min(), country2_df['date'].max())\n",
    "plt.xticks(rotation=90, fontweight='light',  fontsize='small')\n",
    "plt.title(\"Daily Vaccinations vs New Cases: South Korea\")\n",
    "plt.xlabel('Date')\n",
    "plt.ylabel ('Daily Vaccinations and New Cases')\n",
    "plt.show()"
   ]
  },
  {
   "cell_type": "code",
   "execution_count": null,
   "id": "7560aa01",
   "metadata": {},
   "outputs": [],
   "source": [
    "#Create Bar Chart for Italy\n",
    "print(f\"People Vaccinated Per Hundred: {country3_df['people_vaccinated_per_hundred'].max()}\")\n",
    "plt.bar(country3_df['date'], country3_df['daily_vaccinations'], color='b', alpha=0.5)\n",
    "plt.bar(country3_df['date'], country3_df['new_cases'], color='r', alpha=0.5)\n",
    "plt.xlim(country3_df['date'].min(), country3_df['date'].max())\n",
    "plt.xticks(rotation=90, fontweight='light',  fontsize='small')\n",
    "plt.title(\"Daily Vaccinations vs New Cases: Italy\")\n",
    "plt.xlabel('Date')\n",
    "plt.ylabel ('Daily Vaccinations and New Cases')\n",
    "plt.show()"
   ]
  },
  {
   "cell_type": "markdown",
   "id": "349a750b",
   "metadata": {},
   "source": [
    "# Bottom 3 Countries by 'people_vaccinated_per_hundred'"
   ]
  },
  {
   "cell_type": "code",
   "execution_count": null,
   "id": "101474e0",
   "metadata": {},
   "outputs": [],
   "source": [
    "#Create Bar Chart for Nigeria\n",
    "print(f\"People Vaccinated Per Hundred: {country4_df['people_vaccinated_per_hundred'].max()}\")\n",
    "plt.bar(country4_df['date'], country4_df['daily_vaccinations'], color='b', alpha=0.5)\n",
    "plt.bar(country4_df['date'], country4_df['new_cases'], color='r', alpha=0.5)\n",
    "plt.xlim(country4_df['date'].min(), country4_df['date'].max())\n",
    "plt.xticks(rotation=90, fontweight='light',  fontsize='small')\n",
    "plt.title(\"Daily Vaccinations vs New Cases: Nigeria\")\n",
    "plt.xlabel('Date')\n",
    "plt.ylabel ('Daily Vaccinations and New Cases')\n",
    "plt.show()"
   ]
  },
  {
   "cell_type": "code",
   "execution_count": null,
   "id": "fc101111",
   "metadata": {},
   "outputs": [],
   "source": [
    "#Create Bar Chart for Tanzania\n",
    "print(f\"People Vaccinated Per Hundred: {country5_df['people_vaccinated_per_hundred'].max()}\")\n",
    "plt.bar(country5_df['date'], country5_df['daily_vaccinations'], color='b', alpha=0.5)\n",
    "plt.bar(country5_df['date'], country5_df['new_cases'], color='r', alpha=0.5)\n",
    "plt.xlim(country5_df['date'].min(), country5_df['date'].max())\n",
    "plt.xticks(rotation=90, fontweight='light',  fontsize='small')\n",
    "plt.title(\"Daily Vaccinations vs New Cases: Tanzania\")\n",
    "plt.xlabel('Date')\n",
    "plt.ylabel ('Daily Vaccinations and New Cases')\n",
    "plt.show()"
   ]
  },
  {
   "cell_type": "code",
   "execution_count": null,
   "id": "8c573f05",
   "metadata": {},
   "outputs": [],
   "source": [
    "#Create Bar Chart for DRC\n",
    "print(f\"People Vaccinated Per Hundred: {country6_df['people_vaccinated_per_hundred'].max()}\")\n",
    "plt.bar(country6_df['date'], country6_df['daily_vaccinations'], color='b', alpha=0.5)\n",
    "plt.bar(country6_df['date'], country6_df['new_cases'], color='r', alpha=0.5)\n",
    "plt.xlim(country6_df['date'].min(), country6_df['date'].max())\n",
    "plt.xticks(rotation=90, fontweight='light',  fontsize='small')\n",
    "plt.title(\"Daily Vaccinations vs New Cases: Democratic Republic of Congo\")\n",
    "plt.xlabel('Date')\n",
    "plt.ylabel ('Daily Vaccinations and New Cases')\n",
    "plt.show()"
   ]
  },
  {
   "cell_type": "markdown",
   "id": "8425f7fb",
   "metadata": {},
   "source": [
    "# USA and Brazil"
   ]
  },
  {
   "cell_type": "code",
   "execution_count": null,
   "id": "e04f166a",
   "metadata": {},
   "outputs": [],
   "source": [
    "#Create Bar Chart for USA\n",
    "print(f\"People Vaccinated Per Hundred: {usa_df['people_vaccinated_per_hundred'].max()}\")\n",
    "plt.bar(usa_df['date'], usa_df['daily_vaccinations'], color='b', alpha=0.5)\n",
    "plt.bar(usa_df['date'], usa_df['new_cases'], color='r', alpha=0.5)\n",
    "plt.xlim(usa_df['date'].min(), usa_df['date'].max())\n",
    "plt.xticks(rotation=90, fontweight='light',  fontsize='small')\n",
    "plt.title(\"Daily Vaccinations vs New Cases: USA\")\n",
    "plt.xlabel('Date')\n",
    "plt.ylabel ('Daily Vaccinations and New Cases')\n",
    "plt.show()"
   ]
  },
  {
   "cell_type": "code",
   "execution_count": null,
   "id": "7e194d4a",
   "metadata": {},
   "outputs": [],
   "source": [
    "#Create Bar Chart for Brazil\n",
    "print(f\"People Vaccinated Per Hundred: {BRA_df['people_vaccinated_per_hundred'].max()}\")\n",
    "plt.bar(BRA_df['date'], BRA_df['daily_vaccinations'], color='b', alpha=0.5)\n",
    "plt.bar(BRA_df['date'], BRA_df['new_cases'], color='r', alpha=0.5)\n",
    "plt.xlim(BRA_df['date'].min(), BRA_df['date'].max())\n",
    "plt.xticks(rotation=90, fontweight='light',  fontsize='small')\n",
    "plt.title(\"Daily Vaccinations vs New Cases: Brazil\")\n",
    "plt.xlabel('Date')\n",
    "plt.ylabel ('Daily Vaccinations and New Cases')\n",
    "plt.show()"
   ]
  },
  {
   "cell_type": "markdown",
   "id": "09219143",
   "metadata": {},
   "source": [
    "# Linear Regression of Daily Vaccinations vs Daily New Cases for World Data"
   ]
  },
  {
   "cell_type": "code",
   "execution_count": null,
   "id": "6677441f",
   "metadata": {},
   "outputs": [],
   "source": []
  },
  {
   "cell_type": "code",
   "execution_count": null,
   "id": "2ad520ed",
   "metadata": {},
   "outputs": [],
   "source": []
  },
  {
   "cell_type": "code",
   "execution_count": null,
   "id": "4024aa6e",
   "metadata": {},
   "outputs": [],
   "source": []
  },
  {
   "cell_type": "code",
   "execution_count": null,
   "id": "968a7ad4",
   "metadata": {},
   "outputs": [],
   "source": []
  }
 ],
 "metadata": {
  "kernelspec": {
   "display_name": "Python 3 (ipykernel)",
   "language": "python",
   "name": "python3"
  },
  "language_info": {
   "codemirror_mode": {
    "name": "ipython",
    "version": 3
   },
   "file_extension": ".py",
   "mimetype": "text/x-python",
   "name": "python",
   "nbconvert_exporter": "python",
   "pygments_lexer": "ipython3",
   "version": "3.9.12"
  }
 },
 "nbformat": 4,
 "nbformat_minor": 5
}

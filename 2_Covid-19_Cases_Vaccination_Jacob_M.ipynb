{
 "cells": [
  {
   "cell_type": "markdown",
   "id": "f41386b3",
   "metadata": {},
   "source": [
    "# Overview\n",
    "\n",
    "* We will analyze two datasets related to Covid-19, Covid-19 World Vaccination Progress by country and Covid -19 death/cases data by country to try.\n",
    "* We will perfrom hypothesis test to infere if increased Covid-19 vaccination will result in lower Covid-19 case counts."
   ]
  },
  {
   "cell_type": "code",
   "execution_count": null,
   "id": "33db4e5c",
   "metadata": {},
   "outputs": [],
   "source": [
    "import pandas as pd\n",
    "import matplotlib.pyplot as plt\n",
    "from scipy import stats"
   ]
  },
  {
   "cell_type": "code",
   "execution_count": null,
   "id": "35bc52ce",
   "metadata": {},
   "outputs": [],
   "source": [
    "# Creating df from both the csv files\n",
    "covid_cases_df = pd.read_csv('Resource/covid-data.csv')\n",
    "covid_vacc_df = pd.read_csv('Resource/country_vaccinations.csv')\n",
    "\n",
    "\n",
    "# updating the df to have columns needed for analysis\n",
    "covid_vacc_df = covid_vacc_df[['country', 'date', 'iso_code', 'people_vaccinated', \\\n",
    "                               'daily_vaccinations', 'people_vaccinated_per_hundred']]\n",
    "\n",
    "# converting date object to pandas 'datetime64[ns]' format\n",
    "covid_vacc_df['date'] = pd.to_datetime(covid_vacc_df['date'])\n",
    "\n",
    "covid_cases_df = covid_cases_df[['location', 'date', 'iso_code', 'total_cases', 'new_cases', \\\n",
    "                                'total_deaths', 'new_deaths', 'population', 'total_cases_per_million', \\\n",
    "                                 'new_cases_per_million']]\n",
    "\n",
    "# converting date object to pandas 'datetime64[ns]' format\n",
    "covid_cases_df['date'] = pd.to_datetime(covid_cases_df['date']) "
   ]
  },
  {
   "cell_type": "code",
   "execution_count": null,
   "id": "eccbd39c",
   "metadata": {},
   "outputs": [],
   "source": [
    "# Adding total cases per hundred column\n",
    "covid_cases_df['total_cases_per_hundred'] = (covid_cases_df['total_cases'] / covid_cases_df['population']) * 100"
   ]
  },
  {
   "cell_type": "code",
   "execution_count": null,
   "id": "30ae4269",
   "metadata": {},
   "outputs": [],
   "source": [
    "# Dropping the row that contatins world data or continental data\n",
    "covid_cases_df = covid_cases_df[~covid_cases_df['iso_code'].str.contains('OWID')]\n",
    "\n",
    "covid_cases_df = covid_cases_df.reset_index(drop=True)"
   ]
  },
  {
   "cell_type": "code",
   "execution_count": null,
   "id": "0e07311b",
   "metadata": {},
   "outputs": [],
   "source": [
    "# Dropping the row that contatins world data or continental data\n",
    "\n",
    "covid_vacc_df = covid_vacc_df[~covid_vacc_df['iso_code'].str.contains('OWID')]"
   ]
  },
  {
   "cell_type": "code",
   "execution_count": null,
   "id": "17b5f9ae",
   "metadata": {},
   "outputs": [],
   "source": [
    "# Grouped max vaccination DF on country\n",
    "max_covid_vacc_df = covid_vacc_df.groupby(['iso_code'], as_index=False).max().\\\n",
    "                        sort_values(by=['people_vaccinated_per_hundred'], ascending=False).reset_index(drop=True)"
   ]
  },
  {
   "cell_type": "code",
   "execution_count": null,
   "id": "de2d6a4c",
   "metadata": {},
   "outputs": [],
   "source": [
    "covid_vacc_df"
   ]
  },
  {
   "cell_type": "code",
   "execution_count": null,
   "id": "26e97b4c",
   "metadata": {},
   "outputs": [],
   "source": []
  },
  {
   "cell_type": "code",
   "execution_count": null,
   "id": "1b1e0953",
   "metadata": {},
   "outputs": [],
   "source": [
    "# Grouped max covid cases DF on country\n",
    "# Sorting the DF based on total cases per hundred\n",
    "# Dropping the rows with NAN values for total cases and resetting the index\n",
    "\n",
    "max_covid_case_df = covid_cases_df.groupby(['iso_code'], as_index=False).max()\n",
    "\n",
    "sort_covid_case_per_hund_df = max_covid_case_df.drop(['new_cases', 'new_deaths', 'new_cases_per_million'], \\\n",
    "                           axis=1).sort_values(by=['total_cases_per_hundred'], ascending=False).dropna(subset=['total_cases']).reset_index(drop=True)\n",
    "\n",
    "\n",
    "# Sorting the DF based on total cases\n",
    "sort_most_covid_case_df = max_covid_case_df.drop(['new_cases', 'new_deaths', 'new_cases_per_million'], \\\n",
    "                           axis=1).sort_values(by=['total_cases'], ascending=False).dropna(subset=['total_cases']).reset_index(drop=True)"
   ]
  },
  {
   "cell_type": "code",
   "execution_count": null,
   "id": "4e70c748",
   "metadata": {},
   "outputs": [],
   "source": [
    "# This df shows the most effected countries based on cases per hundred. \n"
   ]
  },
  {
   "cell_type": "code",
   "execution_count": null,
   "id": "de9b5831",
   "metadata": {},
   "outputs": [],
   "source": [
    "# This df shows the most effected countries based on most number of total cases. \n"
   ]
  },
  {
   "cell_type": "code",
   "execution_count": null,
   "id": "1f6b3bca",
   "metadata": {},
   "outputs": [],
   "source": [
    "#mergin two dfs on 'iso-code' and 'date'\n",
    "\n",
    "merge_df = pd.merge(covid_cases_df, covid_vacc_df, on=['iso_code', 'date'], how='outer')\n"
   ]
  },
  {
   "cell_type": "code",
   "execution_count": null,
   "id": "689b27da",
   "metadata": {},
   "outputs": [],
   "source": [
    "#verfying the merge df\n",
    "\n",
    "merge_df.loc[(merge_df['iso_code'] == 'AFG') & (merge_df['date'] == '2022-03-22')]"
   ]
  },
  {
   "cell_type": "markdown",
   "id": "230209d7",
   "metadata": {},
   "source": [
    "# Relationship Between Total Covid-19 Vaccinations vs Covid-19 cases for the entire dataset"
   ]
  },
  {
   "cell_type": "code",
   "execution_count": null,
   "id": "59901196",
   "metadata": {},
   "outputs": [],
   "source": [
    "# stackplots layer the y-axis values. Good for data with multiple y features. In This case, we have 233. Increasing opacity\n",
    "# (alpha) can help visualize how this layering occurs. Scaled 1e7, or in units per ten million. "
   ]
  },
  {
   "cell_type": "code",
   "execution_count": null,
   "id": "e0b40b5a",
   "metadata": {},
   "outputs": [],
   "source": [
    "plt.stackplot(merge_df['date'],\n",
    "              merge_df['daily_vaccinations'], \n",
    "              color='b', alpha=0.2)\n",
    "\n",
    "plt.stackplot(merge_df['date'], \n",
    "              merge_df['new_cases'], \n",
    "              color='r', alpha=0.5)\n",
    "\n",
    "plt.xlim(merge_df['date'].min(), merge_df['date'].max())\n",
    "plt.xticks(rotation=45, fontweight='light',  fontsize='small')\n",
    "plt.xlabel('Jan 1,2020 - Mar 29,2022')\n",
    "plt.ylabel('Daily Vaccinations vs New Reported Cases')\n",
    "plt.title('Worldwide Reported Covid Cases plotted Alongside New Cases ', pad=20)\n",
    "plt.legend(['Daily Vaccinations','New Cases'], loc='upper left')\n",
    "plt.show()"
   ]
  },
  {
   "cell_type": "code",
   "execution_count": null,
   "id": "1564417a",
   "metadata": {},
   "outputs": [],
   "source": [
    "# I set the alpha to .2 to better visualize the peaks and slopes that were being obscured potentially by \n",
    "# countries who reportedcases poorly, resulting in vertical lines between datapoints. \n",
    "# Important distinction is that this is 1e6 so in millions, while the previous plot is in 1e7 or ten million.\n"
   ]
  },
  {
   "cell_type": "code",
   "execution_count": null,
   "id": "3944ff85",
   "metadata": {},
   "outputs": [],
   "source": [
    "plt.stackplot(merge_df['date'], merge_df['new_cases'], color='r',alpha=0.2)\n",
    "plt.xlim(merge_df['date'].min(), merge_df['date'].max())\n",
    "plt.xticks(rotation=45, fontweight='light',  fontsize='small')\n",
    "plt.xlabel('Jan 1,2020 - Mar 29,2022')\n",
    "plt.ylabel('New Reported Cases')\n",
    "plt.title('Worldwide Reported Covid Cases', pad=20)\n",
    "plt.legend(['Daily Vaccinations','New Cases'], loc='upper left')\n",
    "plt.show()"
   ]
  },
  {
   "cell_type": "markdown",
   "id": "2717c85b",
   "metadata": {},
   "source": [
    "Overwhelmingly, on a global scale, the population of those vaccinated far exceeded the population of recorded cases. Overall, the population of the world far exceeds the population of those vaccinated. Notably, this is all just based on trusting the reported data from each country. Evidence for poor house keeping might even be possible to see from these plots."
   ]
  },
  {
   "cell_type": "code",
   "execution_count": null,
   "id": "bc9b9a2f",
   "metadata": {},
   "outputs": [],
   "source": [
    "# #stackplot showing just daily vaccinations. \n",
    "\n",
    "# plt.stackplot(total_relationship_df_dates['date'], \n",
    "#               total_relationship_df_dates['daily_vaccinations'], \n",
    "#               color='b', alpha=0.5)\n",
    "# plt.xlim(total_relationship_df_dates['date'].min(), \n",
    "#          total_relationship_df_dates['date'].max())\n",
    "# plt.xticks(rotation=90, fontweight='light',  fontsize='small')\n",
    "# plt.show()"
   ]
  },
  {
   "cell_type": "markdown",
   "id": "64a9e851",
   "metadata": {},
   "source": [
    "# Experimental/Testing \n",
    "\n",
    "The code/plots/dataframes here are the additional testing and analysis I was/am doing. Not strictly relevant to the research question. "
   ]
  },
  {
   "cell_type": "code",
   "execution_count": null,
   "id": "58eb88d6",
   "metadata": {},
   "outputs": [],
   "source": [
    "# #To create a plot that shows a scaled in version of the above plot focused on when vaccinations became available\n",
    "# #starting 13 days before. The plot is coded directly below.\n",
    "\n",
    "# interest_dates_total_rel = (merge_df_total_relationship_df['date'] > '2020-12-1') & \\\n",
    "# (merge_df_total_relationship_df['date'] <= '2022-03-8')\n",
    "\n",
    "# total_relationship_df_dates = merge_df_total_relationship_df.loc[interest_dates_total_rel]"
   ]
  },
  {
   "cell_type": "code",
   "execution_count": null,
   "id": "f4ec6d28",
   "metadata": {},
   "outputs": [],
   "source": [
    "#plt.stackplot(total_relationship_df_dates['date'], \n",
    "#              total_relationship_df_dates['daily_vaccinations'], \n",
    "#              color='b', alpha=0.5)\n",
    "\n",
    "#plt.stackplot(total_relationship_df_dates['date'], \n",
    "#              total_relationship_df_dates['new_cases'], \n",
    "#              color='r', alpha=0.5)\n",
    "\n",
    "# plt.xlim(total_relationship_df_dates['date'].min(), total_relationship_df_dates['date'].max())\n",
    "# plt.xticks(rotation=90, fontweight='light',  fontsize='small')\n",
    "# plt.show()"
   ]
  },
  {
   "cell_type": "code",
   "execution_count": null,
   "id": "152bf581",
   "metadata": {},
   "outputs": [],
   "source": [
    "# #Dataframe creation for exclusively cases before vaccination introduction. \n",
    "\n",
    "# interest_dates_cases_before = (covid_cases_df['date'] > covid_cases_df['date'].min()) & \\\n",
    "# (covid_cases_df['date'] <= covid_cases_df['date'].min())\n",
    "\n",
    "# cases_before_df = covid_cases_df.loc[interest_dates_cases_before]"
   ]
  },
  {
   "cell_type": "code",
   "execution_count": null,
   "id": "e6407f16",
   "metadata": {},
   "outputs": [],
   "source": [
    "# #Plot of the case data before vaccination introduction. As a barplot, it might take up to 5 minutes to render. \n",
    "# #Also has no labels/title.\n",
    "\n",
    "# plt.bar(relationship_df_cases['date'], relationship_df_cases['new_cases'], color='r', alpha=0.5)\n",
    "# plt.xlim(relationship_df_cases['date'].min(), relationship_df_cases['date'].max())\n",
    "# plt.xticks(rotation=90, fontweight='light',  fontsize='small')\n",
    "# plt.show()"
   ]
  },
  {
   "cell_type": "code",
   "execution_count": null,
   "id": "22b68bef",
   "metadata": {},
   "outputs": [],
   "source": [
    "# #Grouped collection of code in progress for creating a fully labeled stackplot with each country labeled. \n",
    "\n",
    "# country_daily_list = merge_df.groupby(['iso_code'])['daily_vaccinations'].apply(list)\n",
    "# country_daily_dict = country_daily_list.to_dict()\n",
    "\n",
    "# max_key, max_value = max(country_daily_dict.items(), key = lambda a: len(set(a[1])))\n",
    "# min_key, min_value = min(country_daily_dict.items(), key = lambda b: len(set(b[1])))\n",
    "# print(max_key, len(max_value))\n",
    "# print(min_key, len(min_value))\n",
    "\n",
    "# country_daily_dict_equal = {}\n",
    "# for k,v in country_daily_dict.items():\n",
    "#     if len(v) < len(max_value):\n",
    "#         zeroes = [0]*(len(max_value)-len(v))\n",
    "#         country_daily_dict_equal[k] = zeroes+v\n",
    "#     else:\n",
    "#         country_daily_dict_equal[k] = v\n",
    "\n",
    "# max_key_v2, max_value_v2 = max(country_daily_dict_equal.items(), key = lambda c: len(set(c[1])))\n",
    "# min_key_v2, min_value_v2 = min(country_daily_dict_equal.items(), key = lambda d: len(set(d[1])))\n",
    "# print(min_key_v2, len(min_value_v2))\n",
    "# print(max_key_v2, len(max_value_v2))"
   ]
  },
  {
   "cell_type": "code",
   "execution_count": null,
   "id": "317e952a",
   "metadata": {},
   "outputs": [],
   "source": [
    "#Collection of code in progress for summary table dataframe\n",
    "\n",
    "# country_daily_list = merge_df.groupby(['iso_code'])['daily_vaccinations'].apply(list)\n",
    "# country_daily_dict = country_daily_list.to_dict()\n",
    "\n",
    "# populations = []\n",
    "# [populations.append(n) for n in merge_df[\"population\"] if n not in populations]\n",
    "# populations_clean = [n for n in populations if str(n) != 'nan']\n",
    "# #len(populations_clean)\n",
    "\n",
    "# first_date = min(merge_df['date'])\n",
    "# first_date_clean = first_date.strftime('%m/%d/%Y')\n",
    "\n",
    "# last_date = max(merge_df['date'])\n",
    "# last_date_clean = last_date.strftime('%m/%d/%Y')\n",
    "# time_delta = last_date - first_date"
   ]
  },
  {
   "cell_type": "code",
   "execution_count": null,
   "id": "02510111",
   "metadata": {},
   "outputs": [],
   "source": [
    "# #For finding the total cases. Also helped find which countries did not record any cases. \n",
    "\n",
    "# cases_max_df =  pd.DataFrame(covid_cases_df.groupby(['iso_code','location'])['total_cases'].max())\n",
    "# cases_max_df[\"total_cases\"] = cases_max_df[\"total_cases\"].fillna(0)\n",
    "# zero_cases = cases_max_df.loc[cases_max_df[\"total_cases\"] == 0]"
   ]
  },
  {
   "cell_type": "code",
   "execution_count": null,
   "id": "505b2209",
   "metadata": {},
   "outputs": [],
   "source": [
    "# #For finding the date and location(s) where the first case was recorded\n",
    "\n",
    "# case_dates_sorted_df = covid_cases_df.sort_values('date')\n",
    "# earliest_case = case_dates_sorted_df.loc[(case_dates_sorted_df['total_cases'] ==1)] \n",
    "# earliest_case = earliest_case.reset_index(drop=True)\n",
    "# same_date = earliest_case.loc[earliest_case['date'] == earliest_case['date'].iloc[0]]\n",
    "# case_date = earliest_case['date'].iloc[0]\n",
    "# case_date = case_date.strftime('%m/%d/%Y')\n",
    "\n",
    "# case_date_str = (f\"{vacc_date} [\\\n",
    "# {same_date['location'].iloc[0]},\\\n",
    "#  {same_date['location'].iloc[1]},\\\n",
    "#  {same_date['location'].iloc[2]},\\\n",
    "#  {same_date['location'].iloc[3]}]\")"
   ]
  },
  {
   "cell_type": "code",
   "execution_count": null,
   "id": "3f08708e",
   "metadata": {},
   "outputs": [],
   "source": [
    "# # for finding the total vaccinations recorded in the dataframe across all countries. \n",
    "\n",
    "#vacc_sum_df =  pd.DataFrame(covid_vacc_df.groupby(['iso_code','country'])['daily_vaccinations'].sum())"
   ]
  },
  {
   "cell_type": "code",
   "execution_count": null,
   "id": "f75b1966",
   "metadata": {},
   "outputs": [],
   "source": [
    "# #For finding the earliest date that daily vaccinations began.\n",
    "\n",
    "# vacc_dates = covid_vacc_df.sort_values('date')\n",
    "# earliest_vacc = vacc_dates.loc[(vacc_dates['daily_vaccinations'] ==1)] \n",
    "# earliest_vacc = earliest_vacc.reset_index(drop=True)\n",
    "# vacc_date = earliest_vacc['date'].iloc[0]\n",
    "# vacc_date = vacc_date.strftime('%m/%d/%Y')"
   ]
  },
  {
   "cell_type": "code",
   "execution_count": null,
   "id": "3dde8cf0",
   "metadata": {},
   "outputs": [],
   "source": [
    "#Summary Datatable\n",
    "\n",
    "# world_summary_df = pd.DataFrame(\n",
    "#     {\"Total Countries\":[len(country_daily_dict.keys())],\n",
    "#      \"Total Population\":[sum(populations_clean)],\n",
    "#      \"Entire Timespan\":[(f\"{first_date_clean}-{last_date_clean}\")],\n",
    "#      \"Total Days\": [time_delta.days],\n",
    "#      \"Total Cases\":[cases_max_df[\"total_cases\"].sum()],\n",
    "#      \"Total Vaccinations\":[vacc_sum_df['daily_vaccinations'].sum()],\n",
    "#      \"Date of First Recorded Case\":[case_date],\n",
    "#      \"Date of First Daily Vaccination\":[vacc_date],\n",
    "#      \"Most Cases in Single Day\": [\"\"],    \n",
    "#      \"Most Vaccinations in Single Day\":[\"\"],\n",
    "#     }) "
   ]
  }
 ],
 "metadata": {
  "kernelspec": {
   "display_name": "Python 3 (ipykernel)",
   "language": "python",
   "name": "python3"
  },
  "language_info": {
   "codemirror_mode": {
    "name": "ipython",
    "version": 3
   },
   "file_extension": ".py",
   "mimetype": "text/x-python",
   "name": "python",
   "nbconvert_exporter": "python",
   "pygments_lexer": "ipython3",
   "version": "3.8.13"
  }
 },
 "nbformat": 4,
 "nbformat_minor": 5
}

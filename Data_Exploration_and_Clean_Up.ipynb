{
 "cells": [
  {
   "cell_type": "code",
   "execution_count": null,
   "id": "9cf5fdfc",
   "metadata": {},
   "outputs": [],
   "source": [
    "import pandas as pd\n",
    "import matplotlib.pyplot as plt\n",
    "from scipy import stats"
   ]
  },
  {
   "cell_type": "code",
   "execution_count": null,
   "id": "4aff9965",
   "metadata": {},
   "outputs": [],
   "source": [
    "# Creating df from both the csv files\n",
    "covid_cases_df = pd.read_csv('Resource/covid-data.csv')\n",
    "covid_vacc_df = pd.read_csv('Resource/country_vaccinations.csv')\n",
    "\n",
    "\n",
    "# updating the df to have columns needed for analysis\n",
    "covid_vacc_df = covid_vacc_df[['country', 'date', 'iso_code', 'people_vaccinated', \\\n",
    "                               'daily_vaccinations', 'people_vaccinated_per_hundred']]\n",
    "\n",
    "# converting date object to pandas 'datetime64[ns]' format\n",
    "covid_vacc_df['date'] = pd.to_datetime(covid_vacc_df['date'])\n",
    "\n",
    "covid_cases_df = covid_cases_df[['location', 'date', 'iso_code', 'total_cases', 'new_cases', \\\n",
    "                                'total_deaths', 'new_deaths', 'population', 'total_cases_per_million', \\\n",
    "                                 'new_cases_per_million']]\n",
    "\n",
    "# converting date object to pandas 'datetime64[ns]' format\n",
    "covid_cases_df['date'] = pd.to_datetime(covid_cases_df['date'])"
   ]
  },
  {
   "cell_type": "code",
   "execution_count": null,
   "id": "249cf274",
   "metadata": {},
   "outputs": [],
   "source": [
    "# Adding total cases per hundred column\n",
    "covid_cases_df['total_cases_per_hundred'] = (covid_cases_df['total_cases'] / covid_cases_df['population']) * 100\n",
    "\n",
    "covid_cases_df = covid_cases_df.reset_index(drop=True)"
   ]
  },
  {
   "cell_type": "code",
   "execution_count": null,
   "id": "67daeafe",
   "metadata": {},
   "outputs": [],
   "source": [
    "# Grouped max vaccination DF on country\n",
    "max_covid_vacc_df = covid_vacc_df.groupby(['iso_code'], as_index=False).max().\\\n",
    "                        sort_values(by=['people_vaccinated_per_hundred'], ascending=False).reset_index(drop=True)\n",
    "max_covid_vacc_df.head()"
   ]
  },
  {
   "cell_type": "code",
   "execution_count": null,
   "id": "2ade8267",
   "metadata": {},
   "outputs": [],
   "source": [
    "covid_cases_df.head()"
   ]
  },
  {
   "cell_type": "code",
   "execution_count": null,
   "id": "277f3492",
   "metadata": {},
   "outputs": [],
   "source": [
    "# Grouped max covid cases DF on country\n",
    "# Sorting the DF based on total cases per hundred\n",
    "# Dropping the rows with NAN values for total cases and resetting the index\n",
    "\n",
    "max_covid_case_df = covid_cases_df.groupby(['iso_code'], as_index=False).max()\n",
    "\n",
    "sort_covid_case_per_hund_df = max_covid_case_df.drop(['new_cases', 'new_deaths', 'new_cases_per_million'], \\\n",
    "                           axis=1).sort_values(by=['total_cases_per_hundred'], ascending=False).dropna(subset=['total_cases']).reset_index(drop=True)\n",
    "\n",
    "\n",
    "# Sorting the DF based on total cases\n",
    "sort_most_covid_case_df = max_covid_case_df.drop(['new_cases', 'new_deaths', 'new_cases_per_million'], \\\n",
    "                           axis=1).sort_values(by=['total_cases'], ascending=False).dropna(subset=['total_cases']).reset_index(drop=True)"
   ]
  },
  {
   "cell_type": "code",
   "execution_count": null,
   "id": "266f0194",
   "metadata": {},
   "outputs": [],
   "source": [
    "# This df shows the most effected countries based on cases per hundred. \n",
    "sort_covid_case_per_hund_df.head()"
   ]
  },
  {
   "cell_type": "code",
   "execution_count": null,
   "id": "055d9185",
   "metadata": {},
   "outputs": [],
   "source": [
    "# This df shows the most effected countries based on most number of total cases. World and Continental data are excluded.\n",
    "sort_most_covid_case_df = sort_most_covid_case_df[~sort_most_covid_case_df['iso_code'].str.contains('OWID')]\n",
    "sort_most_covid_case_df"
   ]
  },
  {
   "cell_type": "code",
   "execution_count": null,
   "id": "c99e3bab",
   "metadata": {},
   "outputs": [],
   "source": [
    "#merging two dfs on 'iso-code' and 'date'\n",
    "\n",
    "merge_df = pd.merge(covid_cases_df, covid_vacc_df, on=['iso_code', 'date'], how='outer')"
   ]
  },
  {
   "cell_type": "code",
   "execution_count": null,
   "id": "6fbc9de7",
   "metadata": {},
   "outputs": [],
   "source": [
    "#verfying the merge df\n",
    "\n",
    "merge_df.loc[(merge_df['iso_code'] == 'AFG') & (merge_df['date'] == '2022-03-22')]"
   ]
  },
  {
   "cell_type": "code",
   "execution_count": null,
   "id": "e84a683d",
   "metadata": {},
   "outputs": [],
   "source": [
    "#creating dataframe to show top 30 largest countries\n",
    "large_countries_df = merge_df.loc[(merge_df['population'] > 47000000) & (~merge_df['iso_code'].str.contains('OWID')), :]\n",
    "\n",
    "large_countries_df['location'].nunique()"
   ]
  },
  {
   "cell_type": "code",
   "execution_count": null,
   "id": "19881d36",
   "metadata": {},
   "outputs": [],
   "source": [
    "world_cases_df  = covid_cases_df.loc[covid_cases_df['iso_code'] == 'OWID_WRL']\n",
    "world_cases_df.head()"
   ]
  },
  {
   "cell_type": "code",
   "execution_count": null,
   "id": "cc2cff4d",
   "metadata": {},
   "outputs": [],
   "source": [
    "world_covid_vacc = covid_vacc_df.groupby(['date'], as_index=False).sum()"
   ]
  },
  {
   "cell_type": "code",
   "execution_count": null,
   "id": "674b0d0e",
   "metadata": {},
   "outputs": [],
   "source": [
    "world_df = pd.merge(world_cases_df, world_covid_vacc, on='date', how='outer')\n",
    "world_df"
   ]
  },
  {
   "cell_type": "code",
   "execution_count": null,
   "id": "065ab185",
   "metadata": {},
   "outputs": [],
   "source": [
    "# Dataframes available to use\n",
    "\n",
    "#1. covid_vacc_df  ---- raw df with required columns for vaccination record\n",
    "#2. covid_cases_df ---- raw df with required columns for cases record with added column for \"total cases per hundred\"\n",
    "                        # plus data for world and continents are removed from it\n",
    "    \n",
    "#3. max_covid_vacc_df ---- data is grouped on country and is sorted with the countries with most people vaccinated\n",
    "#4. sort_covid_case_per_hund_df ---- data is grouped on country and is sorted with the countries with most cases per hundred\n",
    "#5. sort_most_covid_case_df ---- data is grouped on country and is sorted with the countries with most cases\n",
    "#6. merge_df ---- its a merged df 'on=['iso_code', 'date']' containg vaccination and cases record. \n",
    "#7. large_countries_df ----  dataframe to show top 30 largest countries based on population\n",
    "#8. world_df ---- dataframe contains daily cases and daily vaccinations for the world\n"
   ]
  },
  {
   "cell_type": "code",
   "execution_count": null,
   "id": "d2b18c98",
   "metadata": {},
   "outputs": [],
   "source": []
  }
 ],
 "metadata": {
  "kernelspec": {
   "display_name": "Python 3 (ipykernel)",
   "language": "python",
   "name": "python3"
  },
  "language_info": {
   "codemirror_mode": {
    "name": "ipython",
    "version": 3
   },
   "file_extension": ".py",
   "mimetype": "text/x-python",
   "name": "python",
   "nbconvert_exporter": "python",
   "pygments_lexer": "ipython3",
   "version": "3.9.12"
  }
 },
 "nbformat": 4,
 "nbformat_minor": 5
}
